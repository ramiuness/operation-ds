{
 "cells": [
  {
   "cell_type": "code",
   "execution_count": 1,
   "metadata": {
    "collapsed": true
   },
   "outputs": [],
   "source": [
    "import numpy as np\n",
    "import pandas as pd\n",
    "import matplotlib.pyplot as plt\n",
    "%matplotlib inline"
   ]
  },
  {
   "cell_type": "code",
   "execution_count": 2,
   "metadata": {
    "collapsed": true
   },
   "outputs": [],
   "source": [
    "from sklearn.neighbors import KNeighborsClassifier\n",
    "from sklearn.model_selection import GridSearchCV\n",
    "from sklearn.model_selection import cross_val_predict\n",
    "from sklearn.preprocessing import StandardScaler\n",
    "from sklearn.pipeline import Pipeline\n",
    "from sklearn.svm import LinearSVC\n",
    "from sklearn.metrics import accuracy_score\n",
    "from sklearn.model_selection import StratifiedKFold\n",
    "from sklearn.linear_model import LogisticRegression\n",
    "from sklearn.preprocessing import OneHotEncoder"
   ]
  },
  {
   "cell_type": "code",
   "execution_count": 3,
   "metadata": {
    "collapsed": true
   },
   "outputs": [],
   "source": [
    "import os\n",
    "data_path = '/home/zelig/Documents/dataQuest/misc/MLPB/Problems/Classify Dart Throwers/_Data'\n",
    "os.chdir(data_path)"
   ]
  },
  {
   "cell_type": "code",
   "execution_count": 4,
   "metadata": {
    "collapsed": true
   },
   "outputs": [],
   "source": [
    "train = pd.read_csv('train.csv')\n",
    "test = pd.read_csv('test.csv')\n",
    "\n",
    "dtrain = train[['XCoord', 'YCoord']]\n",
    "y_train = train['Competitor']\n",
    "dtest = test[['XCoord', 'YCoord']]\n",
    "y_test = test['Competitor']\n",
    "\n",
    "dtrain = dtrain.assign(distFromOrg = np.sqrt(np.square(dtrain['XCoord'])+np.square(dtrain['YCoord'])))\n",
    "dtest = dtest.assign(distFromOrg = np.sqrt(np.square(dtest['XCoord'])+np.square(dtest['YCoord'])))"
   ]
  },
  {
   "cell_type": "code",
   "execution_count": 5,
   "metadata": {
    "collapsed": false
   },
   "outputs": [
    {
     "data": {
      "image/png": "[encoded data removed]",
      "text/plain": [
       "<matplotlib.figure.Figure at 0xa98a518c>"
      ]
     },
     "metadata": {},
     "output_type": "display_data"
    }
   ],
   "source": [
    "colors = ('red', 'blue', 'lightgreen', 'cyan')\n",
    "throwers = y_train.unique()\n",
    "fig = plt.figure(figsize=(10,5))\n",
    "fig.add_axes()\n",
    "ax = fig.add_subplot(121)\n",
    "for col,thr in zip(colors,throwers):    \n",
    "    ax.scatter(dtrain.loc[y_train==thr,'XCoord'],dtrain.loc[y_train==thr,'YCoord'],c=col,label=thr)\n",
    "    ax.set(title='Training Darts', xlabel='X Coord',ylabel='Y Coord')\n",
    "    ax.set_yticks(np.arange(-1,1.5,0.5))\n",
    "    ax.legend(loc='best')   "
   ]
  },
  {
   "cell_type": "markdown",
   "metadata": {},
   "source": [
    "# K-Nearest Neighbors (Base Model1)"
   ]
  },
  {
   "cell_type": "code",
   "execution_count": 6,
   "metadata": {
    "collapsed": true
   },
   "outputs": [],
   "source": [
    "pipe = Pipeline([['sc',StandardScaler()] , ['knn', KNeighborsClassifier()]])\n",
    "params = {'knn__n_neighbors':range(1,30)}\n",
    "grid = GridSearchCV(estimator=pipe, param_grid=params, cv=5)\n",
    "grid.fit(dtrain,y_train)\n",
    "clf1 = grid.best_estimator_"
   ]
  },
  {
   "cell_type": "code",
   "execution_count": 7,
   "metadata": {
    "collapsed": false
   },
   "outputs": [
    {
     "data": {
      "text/plain": [
       "0.72972972972972971"
      ]
     },
     "execution_count": 7,
     "metadata": {},
     "output_type": "execute_result"
    }
   ],
   "source": [
    "y_pred = clf1.predict(dtest)\n",
    "accuracy_score(y_test,y_pred)"
   ]
  },
  {
   "cell_type": "code",
   "execution_count": null,
   "metadata": {
    "collapsed": false
   },
   "outputs": [],
   "source": [
    "fails = np.extract(y_test!=y_pred,y_test)\n",
    "val, count = np.unique(fails,return_counts=True)\n",
    "print(np.asarray((val,count)).T)"
   ]
  },
  {
   "cell_type": "code",
   "execution_count": null,
   "metadata": {
    "collapsed": false
   },
   "outputs": [],
   "source": [
    "y_test.value_counts()"
   ]
  },
  {
   "cell_type": "code",
   "execution_count": null,
   "metadata": {
    "collapsed": false
   },
   "outputs": [],
   "source": [
    "val, count = np.unique(y_pred,return_counts=True)\n",
    "print(np.asarray((val,count)).T)"
   ]
  },
  {
   "cell_type": "markdown",
   "metadata": {},
   "source": [
    "# Support Vector Machine (Base Model2)"
   ]
  },
  {
   "cell_type": "code",
   "execution_count": 8,
   "metadata": {
    "collapsed": false
   },
   "outputs": [],
   "source": [
    "pipe = Pipeline([['sc',StandardScaler()] , ['svm', LinearSVC(dual=False)]])\n",
    "\n",
    "params = {'svm__C':[0.001,0.01,0.1,1,10,100,1000], \n",
    "          'svm__penalty':['l1', 'l2'], \n",
    "          'svm__multi_class':['ovr', 'crammer_singer']}\n",
    "grid = GridSearchCV(estimator=pipe, param_grid=params, cv=5)\n",
    "grid.fit(dtrain,y_train)\n",
    "clf2 = grid.best_estimator_"
   ]
  },
  {
   "cell_type": "code",
   "execution_count": 9,
   "metadata": {
    "collapsed": false
   },
   "outputs": [
    {
     "data": {
      "text/plain": [
       "0.83783783783783783"
      ]
     },
     "execution_count": 9,
     "metadata": {},
     "output_type": "execute_result"
    }
   ],
   "source": [
    "y_pred = clf2.predict(dtest)\n",
    "accuracy_score(y_test,y_pred)"
   ]
  },
  {
   "cell_type": "code",
   "execution_count": null,
   "metadata": {
    "collapsed": false
   },
   "outputs": [],
   "source": [
    "fails = np.extract(y_test!=y_pred,y_test)\n",
    "val, count = np.unique(fails,return_counts=True)\n",
    "print(np.asarray((val,count)).T)"
   ]
  },
  {
   "cell_type": "code",
   "execution_count": null,
   "metadata": {
    "collapsed": false
   },
   "outputs": [],
   "source": [
    "y_test.value_counts()"
   ]
  },
  {
   "cell_type": "code",
   "execution_count": null,
   "metadata": {
    "collapsed": false
   },
   "outputs": [],
   "source": [
    "val, count = np.unique(y_pred,return_counts=True)\n",
    "print(np.asarray((val,count)).T)"
   ]
  },
  {
   "cell_type": "markdown",
   "metadata": {},
   "source": [
    "# Stacking (Meta Ensembling)"
   ]
  },
  {
   "cell_type": "markdown",
   "metadata": {},
   "source": [
    "#### 1. Partition the training data into test folds"
   ]
  },
  {
   "cell_type": "code",
   "execution_count": 10,
   "metadata": {
    "collapsed": true
   },
   "outputs": [],
   "source": [
    "splitter = StratifiedKFold(n_splits=5, shuffle=True)\n",
    "kfolds = splitter.split(dtrain,y_train)\n",
    "\n",
    "kfolds = [fold for _,fold in kfolds]"
   ]
  },
  {
   "cell_type": "markdown",
   "metadata": {},
   "source": [
    "#### 2. Create a dataset called train_meta with the same row Ids and fold Ids as the training dataset. Similarly create a dataset called test_meta with the same row Ids as the test dataset and columns M1 and M2. For each base model:\n",
    "#### 2.1 Fit the model to the training fold and make predictions on the test fold. Store these predictions in train_meta to be used as features for the stacking model.  \n",
    "#### 2.2 Fit each base model to the full training dataset and make predictions on the test dataset. Store these predictions inside test_metal."
   ]
  },
  {
   "cell_type": "code",
   "execution_count": 11,
   "metadata": {
    "collapsed": true
   },
   "outputs": [],
   "source": [
    "def get_train_meta(clf,kfolds):\n",
    "    meta = pd.Series(index=dtrain.index)\n",
    "    for test_fold in kfolds:\n",
    "        train_fold = ~dtrain.index.isin(test_fold)\n",
    "        clf.fit(dtrain.ix[train_fold], y_train.ix[train_fold])\n",
    "        meta.ix[test_fold] = clf.predict(dtrain.ix[test_fold])\n",
    "    return meta"
   ]
  },
  {
   "cell_type": "code",
   "execution_count": 12,
   "metadata": {
    "collapsed": true
   },
   "outputs": [],
   "source": [
    "def get_test_meta(clf):\n",
    "    return pd.Series(clf.predict(dtest))"
   ]
  },
  {
   "cell_type": "code",
   "execution_count": 13,
   "metadata": {
    "collapsed": false
   },
   "outputs": [],
   "source": [
    "params = clf1.get_params()['steps'][1][1].get_params()\n",
    "clf = KNeighborsClassifier().set_params(**params)\n",
    "train_meta_clf1 = get_train_meta(clf,kfolds)\n",
    "test_meta_clf1 = get_test_meta(clf1)\n",
    "\n",
    "params = clf2.get_params()['steps'][1][1].get_params()\n",
    "clf = LinearSVC(dual=False).set_params(**params)\n",
    "train_meta_clf2 = get_train_meta(clf,kfolds)\n",
    "test_meta_clf2 = get_test_meta(clf2)"
   ]
  },
  {
   "cell_type": "code",
   "execution_count": 14,
   "metadata": {
    "collapsed": false
   },
   "outputs": [],
   "source": [
    "sc = StandardScaler()\n",
    "dtrain_std = pd.DataFrame(sc.fit_transform(dtrain))\n",
    "dtest_std = pd.DataFrame(sc.fit_transform(dtest))"
   ]
  },
  {
   "cell_type": "code",
   "execution_count": 15,
   "metadata": {
    "collapsed": false
   },
   "outputs": [],
   "source": [
    "train_meta = dtrain_std.assign(meta_clf1=train_meta_clf1).assign(meta_clf2=train_meta_clf2)\n",
    "test_meta = dtest_std.assign(meta_clf1=test_meta_clf1).assign(meta_clf2=test_meta_clf2)"
   ]
  },
  {
   "cell_type": "code",
   "execution_count": 16,
   "metadata": {
    "collapsed": false
   },
   "outputs": [],
   "source": [
    "X_train = pd.get_dummies(train_meta)"
   ]
  },
  {
   "cell_type": "code",
   "execution_count": null,
   "metadata": {
    "collapsed": false
   },
   "outputs": [],
   "source": [
    "X_train.head()"
   ]
  },
  {
   "cell_type": "markdown",
   "metadata": {},
   "source": [
    "#### 3. Fit a new model, S (i.e the stacking model) to train_meta, using M1 and M2 as features. Optionally, include other features from the original training dataset or engineered features"
   ]
  },
  {
   "cell_type": "code",
   "execution_count": 17,
   "metadata": {
    "collapsed": false,
    "scrolled": true
   },
   "outputs": [],
   "source": [
    "X_train = pd.get_dummies(train_meta)\n",
    "lr = LogisticRegression()\n",
    "params = {'C':[.001, .01, .1, 1, 10, 100], 'penalty':['l1', 'l2']}\n",
    "\n",
    "grid = GridSearchCV(estimator=lr, param_grid=params, cv=5)\n",
    "grid.fit(X_train,y_train)\n",
    "clf = grid.best_estimator_"
   ]
  },
  {
   "cell_type": "code",
   "execution_count": null,
   "metadata": {
    "collapsed": true
   },
   "outputs": [],
   "source": [
    "clf.get_params()"
   ]
  },
  {
   "cell_type": "code",
   "execution_count": null,
   "metadata": {
    "collapsed": true
   },
   "outputs": [],
   "source": [
    "grid.cv_results_"
   ]
  },
  {
   "cell_type": "markdown",
   "metadata": {},
   "source": [
    "#### 4. Use the stacked model S to make final predictions on test_meta"
   ]
  },
  {
   "cell_type": "code",
   "execution_count": 18,
   "metadata": {
    "collapsed": true
   },
   "outputs": [],
   "source": [
    "X_test = pd.get_dummies(test_meta)"
   ]
  },
  {
   "cell_type": "code",
   "execution_count": 19,
   "metadata": {
    "collapsed": false
   },
   "outputs": [],
   "source": [
    "blind_spots = [c for c in X_train.columns if c not in X_test.columns]"
   ]
  },
  {
   "cell_type": "code",
   "execution_count": 20,
   "metadata": {
    "collapsed": false
   },
   "outputs": [],
   "source": [
    "for att in blind_spots:\n",
    "    X_test[att] = np.zeros(len(X_test), dtype=int)"
   ]
  },
  {
   "cell_type": "code",
   "execution_count": null,
   "metadata": {
    "collapsed": false
   },
   "outputs": [],
   "source": [
    "X_test.head()"
   ]
  },
  {
   "cell_type": "code",
   "execution_count": 21,
   "metadata": {
    "collapsed": false
   },
   "outputs": [
    {
     "data": {
      "text/plain": [
       "0.7567567567567568"
      ]
     },
     "execution_count": 21,
     "metadata": {},
     "output_type": "execute_result"
    }
   ],
   "source": [
    "y_pred = clf.predict(X_test)\n",
    "accuracy_score(y_test,y_pred)"
   ]
  },
  {
   "cell_type": "code",
   "execution_count": null,
   "metadata": {
    "collapsed": true
   },
   "outputs": [],
   "source": []
  },
  {
   "cell_type": "code",
   "execution_count": null,
   "metadata": {
    "collapsed": true
   },
   "outputs": [],
   "source": []
  }
 ],
 "metadata": {
  "kernelspec": {
   "display_name": "Python [conda root]",
   "language": "python",
   "name": "conda-root-py"
  },
  "language_info": {
   "codemirror_mode": {
    "name": "ipython",
    "version": 3
   },
   "file_extension": ".py",
   "mimetype": "text/x-python",
   "name": "python",
   "nbconvert_exporter": "python",
   "pygments_lexer": "ipython3",
   "version": "3.5.2"
  }
 },
 "nbformat": 4,
 "nbformat_minor": 2
}
